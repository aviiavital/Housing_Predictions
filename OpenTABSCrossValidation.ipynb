{
 "cells": [
  {
   "cell_type": "code",
   "execution_count": 1,
   "metadata": {},
   "outputs": [],
   "source": [
    "import pandas as pd\n",
    "from sklearn.preprocessing import OneHotEncoder\n",
    "from sklearn.impute import SimpleImputer\n",
    "from sklearn.preprocessing import StandardScaler\n",
    "from sklearn.linear_model import LinearRegression\n",
    "%matplotlib inline\n",
    "import matplotlib.pyplot as plt\n",
    "import scipy.stats as ss\n",
    "import math\n",
    "from sklearn.model_selection import train_test_split\n",
    "from sklearn.linear_model import Ridge\n",
    "from sklearn.linear_model import Lasso\n",
    "from sklearn.model_selection import GridSearchCV\n",
    "import statsmodels.api as sm\n",
    "from scipy import stats\n",
    "import numpy as np"
   ]
  },
  {
   "cell_type": "code",
   "execution_count": 2,
   "metadata": {},
   "outputs": [],
   "source": [
    "#dropping SalePrice column for now while we process predictors\n",
    "rawdf = pd.read_csv('train.csv')\n",
    "# rawdf = pd.read_csv('test.csv')\n",
    "# raw_features = rawdf.copy()\n",
    "rawdf2 = rawdf.drop(rawdf[rawdf['TotalBsmtSF'] > 6000].index).reset_index(drop=True)\n",
    "rawdf3 = rawdf2.drop(rawdf2[rawdf2['GrLivArea'] > 4600].index).reset_index(drop=True)\n",
    "prices = rawdf3['SalePrice']\n",
    "raw_features = rawdf3.drop([\"SalePrice\"], axis=1).reset_index(drop=True)"
   ]
  },
  {
   "cell_type": "code",
   "execution_count": 103,
   "metadata": {},
   "outputs": [],
   "source": [
    "#Listing the columns to be dropped, will happen later\n",
    "dropcols = ['Neighborhood_SawyerW', 'LotFrontage', 'Condition1', 'BldgType', 'BedroomAbvGr', 'TotRmsAbvGrd', 'GrLivArea', 'TotalBsmtSF', 'MSSubClass', 'MasVnrArea', 'Id', 'Street', 'Alley', 'LandContour', 'Utilities', 'LotConfig', 'LandSlope', 'Condition2', 'OverallCond', 'YearRemodAdd', 'RoofMatl', 'Exterior2nd', 'ExterCond', 'BsmtCond', 'BsmtFinType1', 'BsmtFinSF1', 'BsmtFinType2', 'BsmtFinSF2', 'BsmtUnfSF', 'Heating', 'Electrical', '1stFlrSF', '2ndFlrSF', 'LowQualFinSF', 'KitchenAbvGr', 'Functional', 'FireplaceQu', 'GarageYrBlt', 'GarageFinish', 'GarageArea', 'GarageQual', 'GarageCond', 'PavedDrive', 'EnclosedPorch', '3SsnPorch', 'ScreenPorch', 'PoolArea', 'PoolQC', 'Fence', 'MiscFeature', 'MiscVal', 'MoSold', 'YrSold', 'SaleType', 'SaleCondition', 'FullBath', 'HalfBath', 'BsmtFullBath', 'BsmtHalfBath', 'Neighborhood_CollgCr', 'Neighborhood_Crawfor', 'Neighborhood_Veenker', 'Neighborhood_ClearCr', 'Neighborhood_Gilbert', 'Neighborhood_NWAmes', 'Foundation_Wood', 'Foundation_Stone', 'Neighborhood_Blueste', 'GarageType_Basment', 'Neighborhood_NPkVill', 'Neighborhood_Mitchel', 'Neighborhood_SWISU', 'GarageType_CarPort', 'Neighborhood_BrDale']"
   ]
  },
  {
   "cell_type": "code",
   "execution_count": 4,
   "metadata": {},
   "outputs": [],
   "source": [
    "#Setting the rules for our OHE\n",
    "#setting up a dummy maker function\n",
    "Dummymaker = OneHotEncoder( categories = 'auto', drop='first', sparse = False )\n",
    "def DummyMake(dfx, colname):\n",
    "    df = dfx.copy()\n",
    "    Dums = Dummymaker.fit_transform(df[[colname]])\n",
    "    Dums = pd.DataFrame(Dums, columns=Dummymaker.get_feature_names([colname]))\n",
    "    df = pd.concat( (df.drop([colname], axis=1).reset_index(drop = True), Dums), axis = 1 )\n",
    "    return df"
   ]
  },
  {
   "cell_type": "code",
   "execution_count": 5,
   "metadata": {},
   "outputs": [],
   "source": [
    "#Setting up some of the imputers we'll use for missing values, one that replaces them with 0 (numerical features)\n",
    "#and ones that replaces them with the most common value (categorical features)\n",
    "imp0 = SimpleImputer(strategy='constant', fill_value = 0)\n",
    "impNone = SimpleImputer(strategy = 'constant', fill_value = 'none')\n",
    "impTyp = SimpleImputer(strategy = 'most_frequent')\n",
    "impMean = SimpleImputer(strategy = 'mean')"
   ]
  },
  {
   "cell_type": "code",
   "execution_count": null,
   "metadata": {},
   "outputs": [],
   "source": []
  },
  {
   "cell_type": "code",
   "execution_count": 6,
   "metadata": {},
   "outputs": [],
   "source": [
    "def AdjustedSF(row):\n",
    "    if row['TotalBsmtSF'] == 0 :\n",
    "        return row['GrLivArea']\n",
    "    return row['TotalBsmtSF']"
   ]
  },
  {
   "cell_type": "code",
   "execution_count": 7,
   "metadata": {},
   "outputs": [],
   "source": [
    "def GarageType(row):\n",
    "    if row['GarageType'] == 'BuiltIn' :\n",
    "        return 'Attchd'\n",
    "    return row['GarageType']"
   ]
  },
  {
   "cell_type": "code",
   "execution_count": 8,
   "metadata": {},
   "outputs": [],
   "source": [
    "def KitchenQual(row):\n",
    "    if row['KitchenQual'] == 'Ex' :\n",
    "        return 'Gd'\n",
    "    return row['KitchenQual']"
   ]
  },
  {
   "cell_type": "code",
   "execution_count": 9,
   "metadata": {},
   "outputs": [],
   "source": [
    "def BsmtQual(row):\n",
    "    if row['BsmtQual'] == 'Ex' :\n",
    "        return 'Gd'\n",
    "    return row['BsmtQual']"
   ]
  },
  {
   "cell_type": "code",
   "execution_count": 10,
   "metadata": {},
   "outputs": [],
   "source": [
    "def TotalBsmtSFImpute(dfx):\n",
    "    df = dfx.copy()\n",
    "    df['TotalBsmtSF'] = imp0.fit_transform(df[['TotalBsmtSF']])\n",
    "    return df  "
   ]
  },
  {
   "cell_type": "code",
   "execution_count": 11,
   "metadata": {},
   "outputs": [],
   "source": [
    "def MSZoningBool(dfx):\n",
    "    df = dfx.copy()\n",
    "    df['MSZoning'] = df['MSZoning'].apply(lambda x: 1 if x == 'RL' else 0 )\n",
    "    return df"
   ]
  },
  {
   "cell_type": "code",
   "execution_count": 12,
   "metadata": {},
   "outputs": [],
   "source": [
    "def LotFrontageImpute(dfx):\n",
    "    df = dfx.copy()\n",
    "    df['LotFrontage'] = imp0.fit_transform(df[['LotFrontage']])\n",
    "    return df\n",
    "    "
   ]
  },
  {
   "cell_type": "code",
   "execution_count": 13,
   "metadata": {},
   "outputs": [],
   "source": [
    "def LotShapeBool(dfx):\n",
    "    df = dfx.copy()\n",
    "    df['LotShape'] = df['LotShape'].apply(lambda x: 1 if x == 'Reg' else 0 )\n",
    "    return df"
   ]
  },
  {
   "cell_type": "code",
   "execution_count": 14,
   "metadata": {},
   "outputs": [],
   "source": [
    "def NeighborhoodDums(dfx):\n",
    "    return DummyMake(dfx, 'Neighborhood')"
   ]
  },
  {
   "cell_type": "code",
   "execution_count": 15,
   "metadata": {},
   "outputs": [],
   "source": [
    "def Condition1Bool(dfx):\n",
    "    df = dfx.copy()\n",
    "    df['Condition1'] = df['Condition1'].apply(lambda x: 1 if x == 'Norm' else 0 )\n",
    "    return df"
   ]
  },
  {
   "cell_type": "code",
   "execution_count": 16,
   "metadata": {},
   "outputs": [],
   "source": [
    "def BldgTypeBool(dfx):\n",
    "    df = dfx.copy()\n",
    "    df['BldgType'] = df['BldgType'].apply(lambda x: 1 if x == '1Fam' else 0 )\n",
    "    return df"
   ]
  },
  {
   "cell_type": "code",
   "execution_count": 17,
   "metadata": {},
   "outputs": [],
   "source": [
    "def HouseStyleBool(dfx):\n",
    "    df = dfx.copy()\n",
    "    df['HouseStyle'] = df['HouseStyle'].apply(lambda x: 1 if x == '2Story' else 0 )\n",
    "    return df"
   ]
  },
  {
   "cell_type": "code",
   "execution_count": 18,
   "metadata": {},
   "outputs": [],
   "source": [
    "def RoofStyleBool(dfx):\n",
    "    df = dfx.copy()\n",
    "    df['RoofStyle'] = df['RoofStyle'].apply(lambda x: 1 if x == 'Gable' else 0 )\n",
    "    return df"
   ]
  },
  {
   "cell_type": "code",
   "execution_count": 19,
   "metadata": {},
   "outputs": [],
   "source": [
    "def Exterior1stBool(dfx):\n",
    "    df = dfx.copy()\n",
    "    df['Exterior1st'] = df['Exterior1st'].apply(lambda x: 1 if x == 'VinylSd' else 0 )\n",
    "    return df"
   ]
  },
  {
   "cell_type": "code",
   "execution_count": 20,
   "metadata": {},
   "outputs": [],
   "source": [
    "def MasVnrTypeBool(dfx):\n",
    "    df = dfx.copy()\n",
    "    df['MasVnrType'] = impTyp.fit_transform(df[['MasVnrType']])\n",
    "    df['MasVnrType'] = df['MasVnrType'].apply(lambda x: 0 if x == 'None' else 1 )\n",
    "    return df"
   ]
  },
  {
   "cell_type": "code",
   "execution_count": 21,
   "metadata": {},
   "outputs": [],
   "source": [
    "def ExterQualBool(dfx):\n",
    "    df = dfx.copy()\n",
    "    df['ExterQual'] = df['ExterQual'].apply(lambda x: 1 if x == 'TA' else 0 )\n",
    "    return df"
   ]
  },
  {
   "cell_type": "code",
   "execution_count": 22,
   "metadata": {},
   "outputs": [],
   "source": [
    "def FoundationDums(dfx):\n",
    "    return DummyMake(dfx, 'Foundation')"
   ]
  },
  {
   "cell_type": "code",
   "execution_count": 23,
   "metadata": {},
   "outputs": [],
   "source": [
    "def BsmtQualDums(dfx):\n",
    "    df = dfx.copy()\n",
    "    df['BsmtQual'] = impTyp.fit_transform(df[['BsmtQual']])\n",
    "    return DummyMake(df, 'BsmtQual')"
   ]
  },
  {
   "cell_type": "code",
   "execution_count": 24,
   "metadata": {},
   "outputs": [],
   "source": [
    "def BsmtExposureBool(dfx):\n",
    "    df = dfx.copy()\n",
    "    df['BsmtExposure'] = impTyp.fit_transform(df[['BsmtExposure']])\n",
    "    df['BsmtExposure'] = df['BsmtExposure'].apply(lambda x: 0 if x == 'No' else 1 )\n",
    "    return df"
   ]
  },
  {
   "cell_type": "code",
   "execution_count": 25,
   "metadata": {},
   "outputs": [],
   "source": [
    "def TotalBsmtSFImpute(dfx):\n",
    "    df = dfx.copy()\n",
    "    df['TotalBsmtSF'] = imp0.fit_transform(df[['TotalBsmtSF']])\n",
    "    return df"
   ]
  },
  {
   "cell_type": "code",
   "execution_count": 26,
   "metadata": {},
   "outputs": [],
   "source": [
    "def HeatingQCBool(dfx):\n",
    "    df = dfx.copy()\n",
    "    df['HeatingQC'] = df['HeatingQC'].apply(lambda x: 1 if x == 'Ex' else 0)\n",
    "    return df"
   ]
  },
  {
   "cell_type": "code",
   "execution_count": 27,
   "metadata": {},
   "outputs": [],
   "source": [
    "def CentralAirBool(dfx):\n",
    "    df = dfx.copy()\n",
    "    df['CentralAir'] = df['CentralAir'].apply(lambda x: 1 if x == 'Y' else 0 )\n",
    "    return df"
   ]
  },
  {
   "cell_type": "code",
   "execution_count": 28,
   "metadata": {},
   "outputs": [],
   "source": [
    "def KitchenQualDums(dfx):\n",
    "    df = dfx.copy()\n",
    "    df['KitchenQual'] = impTyp.fit_transform(df[['KitchenQual']])\n",
    "    return DummyMake(df, 'KitchenQual')"
   ]
  },
  {
   "cell_type": "code",
   "execution_count": 29,
   "metadata": {},
   "outputs": [],
   "source": [
    "def FireplacesBool(dfx):\n",
    "    df = dfx.copy()\n",
    "    df['Fireplaces'] = df['Fireplaces'].apply(lambda x: 1 if x > 0 else 0 )\n",
    "    return df"
   ]
  },
  {
   "cell_type": "code",
   "execution_count": 30,
   "metadata": {},
   "outputs": [],
   "source": [
    "def GarageTypeDums(dfx):\n",
    "    df = dfx.copy()\n",
    "    df['GarageType'] = impNone.fit_transform(df[['GarageType']])\n",
    "    return DummyMake(df, 'GarageType')"
   ]
  },
  {
   "cell_type": "code",
   "execution_count": 31,
   "metadata": {},
   "outputs": [],
   "source": [
    "def GarageCarsImpute(dfx):\n",
    "    df = dfx.copy()\n",
    "    df['GarageCars'] = imp0.fit_transform(df[['GarageCars']])\n",
    "    return df"
   ]
  },
  {
   "cell_type": "code",
   "execution_count": 32,
   "metadata": {},
   "outputs": [],
   "source": [
    "def BathroomsCalc(dfx):\n",
    "    df = dfx.copy()\n",
    "    df['BsmtFullBath'] = imp0.fit_transform(df[['BsmtFullBath']])\n",
    "    df['Bathrooms'] = df['BsmtFullBath'] + df['FullBath'] + df['HalfBath']\n",
    "    return df"
   ]
  },
  {
   "cell_type": "code",
   "execution_count": 33,
   "metadata": {},
   "outputs": [],
   "source": [
    "def DropCols(dfx):\n",
    "    df = dfx.copy()\n",
    "    for col in dropcols:\n",
    "        df = df.drop([col], axis=1).reset_index(drop = True)\n",
    "    return df"
   ]
  },
  {
   "cell_type": "code",
   "execution_count": 34,
   "metadata": {},
   "outputs": [],
   "source": [
    "def SSfeatures(dfx):\n",
    "    ss = StandardScaler()\n",
    "    df = dfx.copy()\n",
    "    return pd.DataFrame(ss.fit_transform( df ), columns = df.columns)"
   ]
  },
  {
   "cell_type": "markdown",
   "metadata": {},
   "source": [
    "## Run this to reset the data frame after each CV"
   ]
  },
  {
   "cell_type": "code",
   "execution_count": 407,
   "metadata": {},
   "outputs": [],
   "source": [
    "#dropping SalePrice column for now while we process predictors\n",
    "rawdf = pd.read_csv('train.csv')\n",
    "rawdf2 = rawdf.drop(rawdf[rawdf['TotalBsmtSF'] > 6000].index).reset_index(drop=True)\n",
    "rawdf3 = rawdf2.drop(rawdf2[rawdf2['GrLivArea'] > 4600].index).reset_index(drop=True)\n",
    "prices = rawdf3['SalePrice']\n",
    "raw_features = rawdf3.drop([\"SalePrice\"], axis=1).reset_index(drop=True)"
   ]
  },
  {
   "cell_type": "markdown",
   "metadata": {},
   "source": [
    "## Put The Variable To Drop As Kdrop, then rerun dropcols"
   ]
  },
  {
   "cell_type": "code",
   "execution_count": 401,
   "metadata": {},
   "outputs": [],
   "source": [
    "Kdrop = 'Bathrooms'"
   ]
  },
  {
   "cell_type": "code",
   "execution_count": 408,
   "metadata": {},
   "outputs": [],
   "source": [
    "dropcols = ['ExterQual', 'YearBuilt', 'GarageType', 'Exterior1st', 'BsmtQual', 'RoofStyle', 'MSZoning', 'MasVnrType', 'LotFrontage', 'Condition1', 'BldgType', 'BedroomAbvGr', 'TotRmsAbvGrd', 'GrLivArea', 'TotalBsmtSF', 'MSSubClass', 'MasVnrArea', 'Id', 'Street', 'Alley', 'LandContour', 'Utilities', 'LotConfig', 'LandSlope', 'Condition2', 'OverallCond', 'YearRemodAdd', 'RoofMatl', 'Exterior2nd', 'ExterCond', 'BsmtCond', 'BsmtFinType1', 'BsmtFinSF1', 'BsmtFinType2', 'BsmtFinSF2', 'BsmtUnfSF', 'Heating', 'Electrical', '1stFlrSF', '2ndFlrSF', 'LowQualFinSF', 'KitchenAbvGr', 'Functional', 'FireplaceQu', 'GarageYrBlt', 'GarageFinish', 'GarageArea', 'GarageQual', 'GarageCond', 'PavedDrive', 'EnclosedPorch', '3SsnPorch', 'ScreenPorch', 'PoolArea', 'PoolQC', 'Fence', 'MiscFeature', 'MiscVal', 'MoSold', 'YrSold', 'SaleType', 'SaleCondition', 'FullBath', 'HalfBath', 'BsmtFullBath', 'BsmtHalfBath']"
   ]
  },
  {
   "cell_type": "markdown",
   "metadata": {},
   "source": [
    "## Look through this and comment out the function that pertains to the kdrop variable IF APPLICABLE"
   ]
  },
  {
   "cell_type": "code",
   "execution_count": 409,
   "metadata": {},
   "outputs": [],
   "source": [
    "def TABSPreProcess(dfx):\n",
    "    df = dfx.copy()\n",
    "    df['AdjustedSF'] = df.apply(lambda row: AdjustedSF(row), axis = 1)\n",
    "#     df['GarageType'] = df.apply(lambda row: GarageType(row), axis = 1)\n",
    "    df['KitchenQual'] = df.apply(lambda row: KitchenQual(row), axis = 1)\n",
    "#     df['BsmtQual'] = df.apply(lambda row: BsmtQual(row), axis = 1)\n",
    "#     df = MSZoningBool(df)\n",
    "    df = LotFrontageImpute(df)\n",
    "    df = LotShapeBool(df)\n",
    "    df = NeighborhoodDums(df)\n",
    "    df = Condition1Bool(df)\n",
    "    df = BldgTypeBool(df)\n",
    "    df = HouseStyleBool(df)\n",
    "#     df = RoofStyleBool(df)\n",
    "#     df = Exterior1stBool(df)\n",
    "#     df = MasVnrTypeBool(df)\n",
    "    df = ExterQualBool(df)\n",
    "    df = FoundationDums(df)\n",
    "#     df = BsmtQualDums(df)\n",
    "    df = BsmtExposureBool(df)\n",
    "    df = TotalBsmtSFImpute(df)\n",
    "    df = HeatingQCBool(df)\n",
    "    df = CentralAirBool(df)\n",
    "    df = KitchenQualDums(df)\n",
    "    df = FireplacesBool(df)\n",
    "#     df = GarageTypeDums(df)\n",
    "    df = GarageCarsImpute(df)\n",
    "    df = BathroomsCalc(df)\n",
    "    df = DropCols(df)\n",
    "    df = SSfeatures(df)\n",
    "    return df  "
   ]
  },
  {
   "cell_type": "markdown",
   "metadata": {},
   "source": [
    "## RUN THESE AFTER EACH PREPROCESS:"
   ]
  },
  {
   "cell_type": "code",
   "execution_count": 410,
   "metadata": {},
   "outputs": [],
   "source": [
    "processed_features = TABSPreProcess(raw_features)"
   ]
  },
  {
   "cell_type": "code",
   "execution_count": 411,
   "metadata": {},
   "outputs": [],
   "source": [
    "processed_df = processed_features.copy()"
   ]
  },
  {
   "cell_type": "code",
   "execution_count": 412,
   "metadata": {},
   "outputs": [],
   "source": [
    "processed_df['AdjustedSF'] = impMean.fit_transform(processed_df[['AdjustedSF']])"
   ]
  },
  {
   "cell_type": "code",
   "execution_count": 413,
   "metadata": {},
   "outputs": [],
   "source": [
    "processed_df['SalePrice'] = rawdf3['SalePrice'].apply(lambda x: math.log(x))"
   ]
  },
  {
   "cell_type": "markdown",
   "metadata": {},
   "source": [
    "## CV Process is Below:"
   ]
  },
  {
   "cell_type": "code",
   "execution_count": 414,
   "metadata": {},
   "outputs": [
    {
     "name": "stdout",
     "output_type": "stream",
     "text": [
      "[0.87178322 0.85896312 0.86015127 0.87392542 0.88242833]\n",
      "0.8694502726441964\n"
     ]
    }
   ],
   "source": [
    "from sklearn.model_selection import cross_val_score\n",
    "X = processed_features\n",
    "y = processed_df['SalePrice']\n",
    "ridge = Ridge()\n",
    "scores = cross_val_score(ridge, X, y, cv=5)\n",
    "print(scores)\n",
    "print(np.mean(scores))"
   ]
  },
  {
   "cell_type": "markdown",
   "metadata": {},
   "source": [
    "86945"
   ]
  }
 ],
 "metadata": {
  "kernelspec": {
   "display_name": "Python 3",
   "language": "python",
   "name": "python3"
  },
  "language_info": {
   "codemirror_mode": {
    "name": "ipython",
    "version": 3
   },
   "file_extension": ".py",
   "mimetype": "text/x-python",
   "name": "python",
   "nbconvert_exporter": "python",
   "pygments_lexer": "ipython3",
   "version": "3.7.4"
  }
 },
 "nbformat": 4,
 "nbformat_minor": 2
}
