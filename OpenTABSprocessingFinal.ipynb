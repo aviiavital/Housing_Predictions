{
 "cells": [
  {
   "cell_type": "markdown",
   "metadata": {},
   "source": [
    "# Plenty of packages to install"
   ]
  },
  {
   "cell_type": "code",
   "execution_count": 116,
   "metadata": {},
   "outputs": [],
   "source": [
    "import pandas as pd\n",
    "from sklearn.preprocessing import OneHotEncoder\n",
    "from sklearn.impute import SimpleImputer\n",
    "from sklearn.preprocessing import StandardScaler\n",
    "from sklearn.linear_model import LinearRegression\n",
    "from sklearn.metrics import mean_squared_error\n",
    "%matplotlib inline\n",
    "import matplotlib.pyplot as plt\n",
    "import scipy.stats as ss\n",
    "import math\n",
    "from sklearn.model_selection import train_test_split\n",
    "from sklearn.linear_model import Ridge\n",
    "from sklearn.linear_model import RidgeCV\n",
    "from sklearn.linear_model import Lasso\n",
    "from sklearn.linear_model import LassoCV\n",
    "from sklearn.model_selection import GridSearchCV\n",
    "from sklearn.model_selection import cross_val_score\n",
    "import statsmodels.api as sm\n",
    "from scipy import stats\n",
    "import numpy as np\n",
    "import seaborn as sns"
   ]
  },
  {
   "cell_type": "markdown",
   "metadata": {},
   "source": [
    "## We load the train csv and drop the outliers as discussed and as shown by scatterplots of totalbsmtsf and grlivarea against saleprice"
   ]
  },
  {
   "cell_type": "code",
   "execution_count": 117,
   "metadata": {},
   "outputs": [],
   "source": [
    "#dropping SalePrice column for now while we process predictors\n",
    "rawdf = pd.read_csv('train.csv')\n",
    "rawdf2 = rawdf.drop(rawdf[rawdf['TotalBsmtSF'] > 6000].index).reset_index(drop=True)\n",
    "rawdf3 = rawdf2.drop(rawdf2[rawdf2['GrLivArea'] > 4600].index).reset_index(drop=True)\n",
    "prices = rawdf3['SalePrice']\n",
    "raw_features = rawdf3.drop([\"SalePrice\"], axis=1).reset_index(drop=True)"
   ]
  },
  {
   "cell_type": "markdown",
   "metadata": {},
   "source": [
    "## We set up my DummyMake function to make dummies of categorical columns and drop the original"
   ]
  },
  {
   "cell_type": "code",
   "execution_count": 3,
   "metadata": {},
   "outputs": [],
   "source": [
    "#Setting the rules for our OHE\n",
    "#setting up a dummy maker function\n",
    "Dummymaker = OneHotEncoder( categories = 'auto', drop='first', sparse = False )\n",
    "def DummyMake(dfx, colname):\n",
    "    df = dfx.copy()\n",
    "    Dums = Dummymaker.fit_transform(df[[colname]])\n",
    "    Dums = pd.DataFrame(Dums, columns=Dummymaker.get_feature_names([colname]))\n",
    "    df = pd.concat( (df.drop([colname], axis=1).reset_index(drop = True), Dums), axis = 1 )\n",
    "    return df"
   ]
  },
  {
   "cell_type": "markdown",
   "metadata": {},
   "source": [
    "## I made 4 missing value imputers, one that fills with 0, one that fills with the word \"none\", one that fills with the most frequent value in a column, and one that fills with the mean of the column"
   ]
  },
  {
   "cell_type": "code",
   "execution_count": 4,
   "metadata": {},
   "outputs": [],
   "source": [
    "#Setting up some of the imputers we'll use for missing values, one that replaces them with 0 (numerical features)\n",
    "#and ones that replaces them with the most common value (categorical features)\n",
    "imp0 = SimpleImputer(strategy='constant', fill_value = 0)\n",
    "impNone = SimpleImputer(strategy = 'constant', fill_value = 'none')\n",
    "impTyp = SimpleImputer(strategy = 'most_frequent')\n",
    "impMean = SimpleImputer(strategy = 'mean')"
   ]
  },
  {
   "cell_type": "markdown",
   "metadata": {},
   "source": [
    "### The following functions are defined to transform our features as needed, either by dummifying them, imputing them, setting them up as a boolean (typical vs atypical) or some combination of these"
   ]
  },
  {
   "cell_type": "code",
   "execution_count": 6,
   "metadata": {},
   "outputs": [],
   "source": [
    "def TotalBsmtSFImpute(dfx):\n",
    "    df = dfx.copy()\n",
    "    df['TotalBsmtSF'] = imp0.fit_transform(df[['TotalBsmtSF']])\n",
    "    return df  "
   ]
  },
  {
   "cell_type": "code",
   "execution_count": 7,
   "metadata": {},
   "outputs": [],
   "source": [
    "def LotShapeBool(dfx):\n",
    "    df = dfx.copy()\n",
    "    df['LotShape'] = df['LotShape'].apply(lambda x: 1 if x == 'Reg' else 0 )\n",
    "    return df"
   ]
  },
  {
   "cell_type": "code",
   "execution_count": 8,
   "metadata": {},
   "outputs": [],
   "source": [
    "def HouseStyleBool(dfx):\n",
    "    df = dfx.copy()\n",
    "    df['HouseStyle'] = df['HouseStyle'].apply(lambda x: 1 if x == '2Story' else 0 )\n",
    "    return df"
   ]
  },
  {
   "cell_type": "code",
   "execution_count": 9,
   "metadata": {},
   "outputs": [],
   "source": [
    "def FoundationDums(dfx):\n",
    "    return DummyMake(dfx, 'Foundation')"
   ]
  },
  {
   "cell_type": "code",
   "execution_count": 10,
   "metadata": {},
   "outputs": [],
   "source": [
    "def BsmtExposureBool(dfx):\n",
    "    df = dfx.copy()\n",
    "    df['BsmtExposure'] = impTyp.fit_transform(df[['BsmtExposure']])\n",
    "    df['BsmtExposure'] = df['BsmtExposure'].apply(lambda x: 0 if x == 'No' else 1 )\n",
    "    return df"
   ]
  },
  {
   "cell_type": "code",
   "execution_count": 11,
   "metadata": {},
   "outputs": [],
   "source": [
    "def TotalBsmtSFImpute(dfx):\n",
    "    df = dfx.copy()\n",
    "    df['TotalBsmtSF'] = imp0.fit_transform(df[['TotalBsmtSF']])\n",
    "    return df"
   ]
  },
  {
   "cell_type": "code",
   "execution_count": 12,
   "metadata": {},
   "outputs": [],
   "source": [
    "def HeatingQCBool(dfx):\n",
    "    df = dfx.copy()\n",
    "    df['HeatingQC'] = df['HeatingQC'].apply(lambda x: 1 if x == 'Ex' else 0)\n",
    "    return df"
   ]
  },
  {
   "cell_type": "code",
   "execution_count": 13,
   "metadata": {},
   "outputs": [],
   "source": [
    "def CentralAirBool(dfx):\n",
    "    df = dfx.copy()\n",
    "    df['CentralAir'] = df['CentralAir'].apply(lambda x: 1 if x == 'Y' else 0 )\n",
    "    return df"
   ]
  },
  {
   "cell_type": "code",
   "execution_count": 14,
   "metadata": {},
   "outputs": [],
   "source": [
    "def KitchenQualDums(dfx):\n",
    "    df = dfx.copy()\n",
    "    df['KitchenQual'] = impTyp.fit_transform(df[['KitchenQual']])\n",
    "    return DummyMake(df, 'KitchenQual')"
   ]
  },
  {
   "cell_type": "code",
   "execution_count": 137,
   "metadata": {},
   "outputs": [],
   "source": [
    "def KitchenQualBool(dfx):\n",
    "    df = dfx.copy()\n",
    "    df['KitchenQual'] = df['KitchenQual'].apply(lambda x: 1 if x == 'Ex' else 0)\n",
    "    return df"
   ]
  },
  {
   "cell_type": "code",
   "execution_count": 15,
   "metadata": {},
   "outputs": [],
   "source": [
    "def FireplacesBool(dfx):\n",
    "    df = dfx.copy()\n",
    "    df['Fireplaces'] = df['Fireplaces'].apply(lambda x: 1 if x > 0 else 0 )\n",
    "    return df"
   ]
  },
  {
   "cell_type": "code",
   "execution_count": 16,
   "metadata": {},
   "outputs": [],
   "source": [
    "def GarageCarsImpute(dfx):\n",
    "    df = dfx.copy()\n",
    "    df['GarageCars'] = imp0.fit_transform(df[['GarageCars']])\n",
    "    return df"
   ]
  },
  {
   "cell_type": "markdown",
   "metadata": {},
   "source": [
    "### Bathrooms features"
   ]
  },
  {
   "cell_type": "code",
   "execution_count": 185,
   "metadata": {},
   "outputs": [],
   "source": [
    "def BathroomsCalc(dfx):\n",
    "    df = dfx.copy()\n",
    "    df['BsmtFullBath'] = imp0.fit_transform(df[['BsmtFullBath']])\n",
    "    df['Bathrooms'] = df['BsmtFullBath'] + df['FullBath'] + (0.5 * df['HalfBath'])\n",
    "    return df"
   ]
  },
  {
   "cell_type": "markdown",
   "metadata": {},
   "source": [
    "### Before/After real estate crisis:"
   ]
  },
  {
   "cell_type": "code",
   "execution_count": 18,
   "metadata": {},
   "outputs": [],
   "source": [
    "def AfterCrisis(row):\n",
    "    if row['YrSold'] > 2007 :\n",
    "        return 1\n",
    "    return 0"
   ]
  },
  {
   "cell_type": "markdown",
   "metadata": {},
   "source": [
    "### Here I define my ordinal \"location\" column to replace neighborhood entirely, depending on which neighborhood the house is in it will be scored 1-4 (based on where that neighborhood's mean sales price falls in the quartile ranges)"
   ]
  },
  {
   "cell_type": "code",
   "execution_count": 19,
   "metadata": {},
   "outputs": [],
   "source": [
    "def LocationCalc(row):\n",
    "    if row['Neighborhood'] in loc1 :\n",
    "        return 1\n",
    "    elif row['Neighborhood'] in loc2 :\n",
    "        return 2\n",
    "    elif row['Neighborhood'] in loc3 :\n",
    "        return 3\n",
    "    return 4"
   ]
  },
  {
   "cell_type": "code",
   "execution_count": 20,
   "metadata": {},
   "outputs": [],
   "source": [
    "loc1 = ['BrDale', 'BrkSide', 'Edwards', 'IDOTRR', 'MeadowV', 'OldTown']\n",
    "loc2 = ['Blueste', 'Mitchel', 'NAmes', 'NPkVill', 'SWISU', 'Sawyer']\n",
    "loc3 = ['Blmngtn', 'CollgCr',  'Gilbert', 'NWAmes', 'SawyerW', 'Crawfor', 'ClearCr']\n",
    "loc4 = ['NoRidge', 'NridgHt', 'Somerst', 'StoneBr', 'Timber', 'Veenker']"
   ]
  },
  {
   "cell_type": "code",
   "execution_count": 21,
   "metadata": {},
   "outputs": [],
   "source": [
    "def DropCols(dfx):\n",
    "    df = dfx.copy()\n",
    "    for col in dropcols:\n",
    "        df = df.drop([col], axis=1).reset_index(drop = True)\n",
    "    return df"
   ]
  },
  {
   "cell_type": "code",
   "execution_count": 22,
   "metadata": {},
   "outputs": [],
   "source": [
    "def SSfeatures(dfx):\n",
    "    ss = StandardScaler()\n",
    "    df = dfx.copy()\n",
    "    return pd.DataFrame(ss.fit_transform( df ), columns = df.columns)"
   ]
  },
  {
   "cell_type": "markdown",
   "metadata": {},
   "source": [
    "## Columns that will be dropped at the end of processing"
   ]
  },
  {
   "cell_type": "code",
   "execution_count": 187,
   "metadata": {},
   "outputs": [],
   "source": [
    "dropcols = ['YrSold', 'Neighborhood', 'WoodDeckSF', 'OpenPorchSF', 'ExterQual', 'YearBuilt', 'GarageType', 'Exterior1st', 'BsmtQual', 'RoofStyle', 'MSZoning', 'MasVnrType', 'Condition1', 'BldgType', 'BedroomAbvGr', 'TotRmsAbvGrd', 'GrLivArea', 'TotalBsmtSF', 'MSSubClass', 'MasVnrArea', 'Id', 'Street', 'Alley', 'LandContour', 'Utilities', 'LotConfig', 'LandSlope', 'Condition2', 'YearRemodAdd', 'RoofMatl', 'Exterior2nd', 'ExterCond', 'BsmtCond', 'BsmtFinType1', 'BsmtFinSF1', 'BsmtFinType2', 'BsmtFinSF2', 'BsmtUnfSF', 'Heating', 'Electrical', '1stFlrSF', '2ndFlrSF', 'LowQualFinSF', 'KitchenAbvGr', 'Functional', 'FireplaceQu', 'GarageYrBlt', 'GarageFinish', 'GarageArea', 'GarageQual', 'GarageCond', 'PavedDrive', 'EnclosedPorch', '3SsnPorch', 'ScreenPorch', 'PoolArea', 'PoolQC', 'Fence', 'MiscFeature', 'MiscVal', 'MoSold', 'SaleType', 'SaleCondition', 'FullBath', 'HalfBath', 'BsmtFullBath', 'BsmtHalfBath']"
   ]
  },
  {
   "cell_type": "markdown",
   "metadata": {},
   "source": [
    "## Full Preprocess column which calls each of the above defined columns and sets up some additional engineered features (TotalSF, HouseAge, PorchSF), as well as the imputation of missing LotFrontage values by imputing the mean LotFrontage in the house's respective neighborhood."
   ]
  },
  {
   "cell_type": "code",
   "execution_count": 188,
   "metadata": {},
   "outputs": [],
   "source": [
    "def TABSPreProcess(dfx):\n",
    "    df = dfx.copy()\n",
    "    df['TotalSF'] = df['GrLivArea'] + df['TotalBsmtSF']\n",
    "    df[\"LotFrontage\"] = df.groupby(\"Neighborhood\")[\"LotFrontage\"].transform(lambda x: x.fillna(x.mean()))\n",
    "    df['HouseAge'] = df['YrSold'] - df['YearBuilt']\n",
    "    df['AfterCrisis'] = df.apply(lambda row: AfterCrisis(row), axis = 1)\n",
    "    df['Location'] = df.apply(lambda row: LocationCalc(row), axis = 1)\n",
    "    df = LotShapeBool(df)\n",
    "    df = HouseStyleBool(df)\n",
    "    df = FoundationDums(df)\n",
    "    df = BsmtExposureBool(df)\n",
    "    df = TotalBsmtSFImpute(df)\n",
    "    df['TotalSF'] = df['GrLivArea'] + df['TotalBsmtSF']\n",
    "    df['PorchSF'] = df['WoodDeckSF'] + df['OpenPorchSF'] + df['EnclosedPorch'] + df['3SsnPorch'] + df['ScreenPorch']\n",
    "    df = HeatingQCBool(df)\n",
    "    df = CentralAirBool(df)\n",
    "    df = KitchenQualBool(df)\n",
    "    df = FireplacesBool(df)\n",
    "    df = GarageCarsImpute(df)\n",
    "    df = BathroomsCalc(df)\n",
    "    df = DropCols(df)\n",
    "    df = SSfeatures(df)\n",
    "    return df  "
   ]
  },
  {
   "cell_type": "code",
   "execution_count": 189,
   "metadata": {},
   "outputs": [],
   "source": [
    "processed_features = TABSPreProcess(raw_features)"
   ]
  },
  {
   "cell_type": "code",
   "execution_count": 190,
   "metadata": {},
   "outputs": [],
   "source": [
    "processed_df = processed_features.copy()"
   ]
  },
  {
   "cell_type": "markdown",
   "metadata": {},
   "source": [
    "## Sticks on the log of the price (for normal distribution)"
   ]
  },
  {
   "cell_type": "code",
   "execution_count": 191,
   "metadata": {},
   "outputs": [],
   "source": [
    "processed_df['SalePrice'] = rawdf3['SalePrice'].apply(lambda x: math.log(x))"
   ]
  },
  {
   "cell_type": "markdown",
   "metadata": {},
   "source": [
    "## Check correlation of featured engineers with price"
   ]
  },
  {
   "cell_type": "code",
   "execution_count": 192,
   "metadata": {
    "scrolled": false
   },
   "outputs": [
    {
     "data": {
      "text/plain": [
       "SalePrice            1.000000\n",
       "OverallQual          0.821404\n",
       "TotalSF              0.820738\n",
       "Location             0.721001\n",
       "GarageCars           0.681033\n",
       "Bathrooms            0.670998\n",
       "Foundation_PConc     0.531193\n",
       "Fireplaces           0.510253\n",
       "HeatingQC            0.466925\n",
       "KitchenQual          0.417469\n",
       "PorchSF              0.399695\n",
       "LotFrontage          0.369760\n",
       "CentralAir           0.351598\n",
       "BsmtExposure         0.306401\n",
       "HouseStyle           0.263305\n",
       "LotArea              0.260544\n",
       "Foundation_Wood      0.008917\n",
       "Foundation_Stone    -0.014616\n",
       "OverallCond         -0.036821\n",
       "AfterCrisis         -0.041889\n",
       "Foundation_Slab     -0.158984\n",
       "LotShape            -0.289847\n",
       "Foundation_CBlock   -0.337909\n",
       "HouseAge            -0.587767\n",
       "Name: SalePrice, dtype: float64"
      ]
     },
     "execution_count": 192,
     "metadata": {},
     "output_type": "execute_result"
    }
   ],
   "source": [
    "pd.set_option('display.max_rows', None)\n",
    "pd.set_option('display.max_columns', None)\n",
    "pd.set_option('display.width', None)\n",
    "(processed_df.corr()['SalePrice'][:]).sort_values(ascending = False)"
   ]
  },
  {
   "cell_type": "code",
   "execution_count": 193,
   "metadata": {},
   "outputs": [],
   "source": [
    "X = processed_features\n",
    "y = processed_df['SalePrice']"
   ]
  },
  {
   "cell_type": "markdown",
   "metadata": {},
   "source": [
    "### Define and fit LinearRegression"
   ]
  },
  {
   "cell_type": "code",
   "execution_count": 194,
   "metadata": {},
   "outputs": [],
   "source": [
    "lm = LinearRegression()"
   ]
  },
  {
   "cell_type": "code",
   "execution_count": 195,
   "metadata": {},
   "outputs": [
    {
     "data": {
      "text/plain": [
       "LinearRegression(copy_X=True, fit_intercept=True, n_jobs=None, normalize=False)"
      ]
     },
     "execution_count": 195,
     "metadata": {},
     "output_type": "execute_result"
    }
   ],
   "source": [
    "lm.fit(processed_features, processed_df['SalePrice'])"
   ]
  },
  {
   "cell_type": "code",
   "execution_count": 196,
   "metadata": {},
   "outputs": [
    {
     "name": "stdout",
     "output_type": "stream",
     "text": [
      "0.9059882477615485\n"
     ]
    },
    {
     "data": {
      "text/plain": [
       "22768.0"
      ]
     },
     "execution_count": 196,
     "metadata": {},
     "output_type": "execute_result"
    }
   ],
   "source": [
    "print(lm.score(processed_features, processed_df['SalePrice']))\n",
    "preds = pd.DataFrame(lm.predict(processed_features))\n",
    "round(mean_squared_error(preds[0].apply(lambda x: math.exp(x)), rawdf3['SalePrice'])**.5)"
   ]
  },
  {
   "cell_type": "markdown",
   "metadata": {},
   "source": [
    "## Train-test-split setup for cross validation with OLS, Lasso, and Ridge Models. We test each model, and take their respective coefficients to plot at the end"
   ]
  },
  {
   "cell_type": "code",
   "execution_count": 161,
   "metadata": {},
   "outputs": [],
   "source": [
    "xtrain, xtest, ytrain, ytest = train_test_split(X, y, train_size = 0.8, random_state = 1, stratify = X['CentralAir'] )"
   ]
  },
  {
   "cell_type": "code",
   "execution_count": 162,
   "metadata": {},
   "outputs": [
    {
     "data": {
      "text/plain": [
       "LinearRegression(copy_X=True, fit_intercept=True, n_jobs=None, normalize=False)"
      ]
     },
     "execution_count": 162,
     "metadata": {},
     "output_type": "execute_result"
    }
   ],
   "source": [
    "ols = LinearRegression()\n",
    "ols.fit(X, y)"
   ]
  },
  {
   "cell_type": "code",
   "execution_count": 163,
   "metadata": {
    "scrolled": true
   },
   "outputs": [
    {
     "name": "stdout",
     "output_type": "stream",
     "text": [
      "Training Score: 0.9057662526255296\n",
      "Cross Validation Score: [0.89790787 0.86682909 0.92505898 0.90878486 0.90001812] Mean: 0.8997197846527923\n",
      "Test Score: 0.906940392600286\n"
     ]
    }
   ],
   "source": [
    "ols = LinearRegression()\n",
    "ols.fit(xtrain, ytrain)\n",
    "cvs = cross_val_score(ols, xtrain, ytrain, cv = 5)\n",
    "\n",
    "\n",
    "print('Training Score:', ols.score(xtrain, ytrain))\n",
    "print('Cross Validation Score:', cvs, 'Mean:', cvs.mean())\n",
    "print('Test Score:', ols.score(xtest, ytest))\n",
    "\n"
   ]
  },
  {
   "cell_type": "code",
   "execution_count": 164,
   "metadata": {},
   "outputs": [],
   "source": [
    "olsco = pd.DataFrame(ols.coef_)\n",
    "olsco = olsco.rename(columns = {0: 'OLS'})"
   ]
  },
  {
   "cell_type": "code",
   "execution_count": 165,
   "metadata": {},
   "outputs": [],
   "source": [
    "features = pd.DataFrame(X.columns)\n",
    "features = features.rename(columns = {0: 'Feature'})"
   ]
  },
  {
   "cell_type": "code",
   "execution_count": 166,
   "metadata": {},
   "outputs": [
    {
     "name": "stdout",
     "output_type": "stream",
     "text": [
      "Best Alpha: 21.54434690031882\n",
      "Training Score: 0.9056678289425396\n",
      "Test Score: 0.9071360393567133\n"
     ]
    }
   ],
   "source": [
    "RidgeTest = RidgeCV(alphas=np.logspace(-4, 4, 10), cv = 5)\n",
    "RidgeTest.fit(xtrain, ytrain)\n",
    "print('Best Alpha:', RidgeTest.alpha_)\n",
    "print('Training Score:', RidgeTest.score(xtrain, ytrain))\n",
    "print('Test Score:', RidgeTest.score(xtest, ytest))"
   ]
  },
  {
   "cell_type": "code",
   "execution_count": 167,
   "metadata": {},
   "outputs": [],
   "source": [
    "ridgeco = pd.DataFrame(RidgeTest.coef_)\n",
    "ridgeco = ridgeco.rename(columns = {0: 'Ridge'})"
   ]
  },
  {
   "cell_type": "code",
   "execution_count": 168,
   "metadata": {},
   "outputs": [
    {
     "name": "stdout",
     "output_type": "stream",
     "text": [
      "Best Alpha: 0.000774263682681127\n",
      "Training Score: 0.9057164107553912\n",
      "Test Score: 0.9074308222713346\n"
     ]
    }
   ],
   "source": [
    "LassoTest = LassoCV(alphas=np.logspace(-4, 4, 10), cv = 5)\n",
    "LassoTest.fit(xtrain, ytrain)\n",
    "print('Best Alpha:', LassoTest.alpha_)\n",
    "print('Training Score:', LassoTest.score(xtrain,ytrain))\n",
    "print('Test Score:', LassoTest.score(xtest, ytest))"
   ]
  },
  {
   "cell_type": "code",
   "execution_count": 169,
   "metadata": {},
   "outputs": [],
   "source": [
    "lassoco = pd.DataFrame(LassoTest.coef_)\n",
    "lassoco = lassoco.rename(columns = {0: 'Lasso'})"
   ]
  },
  {
   "cell_type": "code",
   "execution_count": 170,
   "metadata": {},
   "outputs": [],
   "source": [
    "coeffs = pd.concat((features, olsco, ridgeco, lassoco), axis=1)"
   ]
  },
  {
   "cell_type": "markdown",
   "metadata": {},
   "source": [
    "## This plots our coefficients for each predictor given each model, the relative stability is why we can be comfortable sticking with OLS for a highly interpretable model"
   ]
  },
  {
   "cell_type": "code",
   "execution_count": 171,
   "metadata": {},
   "outputs": [
    {
     "data": {
      "text/plain": [
       "[Text(0, 0, 'LotFrontage'),\n",
       " Text(0, 0, 'LotArea'),\n",
       " Text(0, 0, 'LotShape'),\n",
       " Text(0, 0, 'HouseStyle'),\n",
       " Text(0, 0, 'OverallQual'),\n",
       " Text(0, 0, 'OverallCond'),\n",
       " Text(0, 0, 'BsmtExposure'),\n",
       " Text(0, 0, 'HeatingQC'),\n",
       " Text(0, 0, 'CentralAir'),\n",
       " Text(0, 0, 'KitchenQual'),\n",
       " Text(0, 0, 'Fireplaces'),\n",
       " Text(0, 0, 'GarageCars'),\n",
       " Text(0, 0, 'TotalSF'),\n",
       " Text(0, 0, 'HouseAge'),\n",
       " Text(0, 0, 'AfterCrisis'),\n",
       " Text(0, 0, 'Location'),\n",
       " Text(0, 0, 'Foundation_CBlock'),\n",
       " Text(0, 0, 'Foundation_PConc'),\n",
       " Text(0, 0, 'Foundation_Slab'),\n",
       " Text(0, 0, 'Foundation_Stone'),\n",
       " Text(0, 0, 'Foundation_Wood'),\n",
       " Text(0, 0, 'PorchSF'),\n",
       " Text(0, 0, 'Bathrooms')]"
      ]
     },
     "execution_count": 171,
     "metadata": {},
     "output_type": "execute_result"
    },
    {
     "data": {
      "image/png": "[encoded data removed]",
      "text/plain": [
       "<Figure size 936x648 with 1 Axes>"
      ]
     },
     "metadata": {
      "needs_background": "light"
     },
     "output_type": "display_data"
    }
   ],
   "source": [
    "bardata = coeffs.melt('Feature', var_name='Model Type', value_name='Coefficient')\n",
    "plt.subplots(figsize=(13, 9))\n",
    "ax=sns.barplot(x='Feature', y='Coefficient', hue='Model Type', data=bardata)\n",
    "ax.set_xticklabels(ax.get_xticklabels(), rotation=90)"
   ]
  },
  {
   "cell_type": "markdown",
   "metadata": {},
   "source": [
    "## R-like description of our model, if you'd like to check it out"
   ]
  },
  {
   "cell_type": "code",
   "execution_count": 197,
   "metadata": {},
   "outputs": [
    {
     "name": "stdout",
     "output_type": "stream",
     "text": [
      "                            OLS Regression Results                            \n",
      "==============================================================================\n",
      "Dep. Variable:              SalePrice   R-squared:                       0.906\n",
      "Model:                            OLS   Adj. R-squared:                  0.904\n",
      "Method:                 Least Squares   F-statistic:                     600.8\n",
      "Date:                Fri, 28 Feb 2020   Prob (F-statistic):               0.00\n",
      "Time:                        13:28:38   Log-Likelihood:                 992.28\n",
      "No. Observations:                1458   AIC:                            -1937.\n",
      "Df Residuals:                    1434   BIC:                            -1810.\n",
      "Df Model:                          23                                         \n",
      "Covariance Type:            nonrobust                                         \n",
      "=====================================================================================\n",
      "                        coef    std err          t      P>|t|      [0.025      0.975]\n",
      "-------------------------------------------------------------------------------------\n",
      "const                12.0240      0.003   3716.472      0.000      12.018      12.030\n",
      "LotFrontage           0.0167      0.004      4.463      0.000       0.009       0.024\n",
      "LotArea               0.0197      0.004      5.425      0.000       0.013       0.027\n",
      "LotShape             -0.0062      0.004     -1.761      0.079      -0.013       0.001\n",
      "HouseStyle            0.0045      0.004      1.228      0.220      -0.003       0.012\n",
      "OverallQual           0.0797      0.006     13.209      0.000       0.068       0.092\n",
      "OverallCond           0.0628      0.004     16.162      0.000       0.055       0.070\n",
      "BsmtExposure          0.0111      0.004      3.112      0.002       0.004       0.018\n",
      "HeatingQC             0.0157      0.004      3.854      0.000       0.008       0.024\n",
      "CentralAir            0.0224      0.004      5.872      0.000       0.015       0.030\n",
      "KitchenQual           0.0233      0.004      6.414      0.000       0.016       0.030\n",
      "Fireplaces            0.0225      0.004      5.814      0.000       0.015       0.030\n",
      "GarageCars            0.0384      0.005      8.448      0.000       0.030       0.047\n",
      "TotalSF               0.1426      0.006     25.075      0.000       0.131       0.154\n",
      "HouseAge             -0.0403      0.007     -5.630      0.000      -0.054      -0.026\n",
      "AfterCrisis          -0.0036      0.003     -1.101      0.271      -0.010       0.003\n",
      "Location              0.0506      0.006      9.001      0.000       0.040       0.062\n",
      "Foundation_CBlock     0.0023      0.007      0.331      0.741      -0.011       0.016\n",
      "Foundation_PConc      0.0201      0.008      2.432      0.015       0.004       0.036\n",
      "Foundation_Slab       0.0101      0.004      2.704      0.007       0.003       0.017\n",
      "Foundation_Stone      0.0035      0.003      1.052      0.293      -0.003       0.010\n",
      "Foundation_Wood      -0.0031      0.003     -0.916      0.360      -0.010       0.003\n",
      "PorchSF               0.0182      0.004      4.984      0.000       0.011       0.025\n",
      "Bathrooms             0.0384      0.005      8.023      0.000       0.029       0.048\n",
      "==============================================================================\n",
      "Omnibus:                      316.643   Durbin-Watson:                   1.954\n",
      "Prob(Omnibus):                  0.000   Jarque-Bera (JB):             1801.335\n",
      "Skew:                          -0.886   Prob(JB):                         0.00\n",
      "Kurtosis:                       8.149   Cond. No.                         8.66\n",
      "==============================================================================\n",
      "\n",
      "Warnings:\n",
      "[1] Standard Errors assume that the covariance matrix of the errors is correctly specified.\n"
     ]
    },
    {
     "name": "stderr",
     "output_type": "stream",
     "text": [
      "/Users/tommymanna/anaconda3/lib/python3.7/site-packages/numpy/core/fromnumeric.py:2495: FutureWarning: Method .ptp is deprecated and will be removed in a future version. Use numpy.ptp instead.\n",
      "  return ptp(axis=axis, out=out, **kwargs)\n"
     ]
    }
   ],
   "source": [
    "X2 = sm.add_constant(processed_features)\n",
    "est = sm.OLS(processed_df['SalePrice'], X2)\n",
    "est2 = est.fit()\n",
    "print(est2.summary())"
   ]
  },
  {
   "cell_type": "markdown",
   "metadata": {},
   "source": [
    "## Here finally we load the test dataset and preprocess it as above, we use our fit model to predict log prices and take the exponent to convert them back to dollars. We format the predictions as needed as save to a CSV."
   ]
  },
  {
   "cell_type": "code",
   "execution_count": null,
   "metadata": {},
   "outputs": [],
   "source": [
    "rawdf = pd.read_csv('test.csv')\n",
    "raw_features = rawdf.copy()\n",
    "processed_features = TABSPreProcess(raw_features)\n",
    "processed_df = processed_features.copy()"
   ]
  },
  {
   "cell_type": "code",
   "execution_count": 176,
   "metadata": {},
   "outputs": [],
   "source": [
    "predictions = lm.predict(processed_df)"
   ]
  },
  {
   "cell_type": "code",
   "execution_count": 177,
   "metadata": {},
   "outputs": [],
   "source": [
    "predictions = pd.DataFrame(predictions)"
   ]
  },
  {
   "cell_type": "code",
   "execution_count": 178,
   "metadata": {},
   "outputs": [],
   "source": [
    "predictions[0] = predictions[0].apply(lambda x: math.exp(x))"
   ]
  },
  {
   "cell_type": "code",
   "execution_count": 179,
   "metadata": {},
   "outputs": [],
   "source": [
    "predictions = pd.concat((rawdf['Id'], predictions), axis = 1)"
   ]
  },
  {
   "cell_type": "code",
   "execution_count": 180,
   "metadata": {},
   "outputs": [],
   "source": [
    "predictions = predictions.rename(columns = {0: 'SalePrice'})"
   ]
  },
  {
   "cell_type": "code",
   "execution_count": 181,
   "metadata": {},
   "outputs": [
    {
     "data": {
      "text/html": [
       "<div>\n",
       "<style scoped>\n",
       "    .dataframe tbody tr th:only-of-type {\n",
       "        vertical-align: middle;\n",
       "    }\n",
       "\n",
       "    .dataframe tbody tr th {\n",
       "        vertical-align: top;\n",
       "    }\n",
       "\n",
       "    .dataframe thead th {\n",
       "        text-align: right;\n",
       "    }\n",
       "</style>\n",
       "<table border=\"1\" class=\"dataframe\">\n",
       "  <thead>\n",
       "    <tr style=\"text-align: right;\">\n",
       "      <th></th>\n",
       "      <th>Id</th>\n",
       "      <th>SalePrice</th>\n",
       "    </tr>\n",
       "  </thead>\n",
       "  <tbody>\n",
       "    <tr>\n",
       "      <td>0</td>\n",
       "      <td>1461</td>\n",
       "      <td>116998.133215</td>\n",
       "    </tr>\n",
       "    <tr>\n",
       "      <td>1</td>\n",
       "      <td>1462</td>\n",
       "      <td>157517.341310</td>\n",
       "    </tr>\n",
       "    <tr>\n",
       "      <td>2</td>\n",
       "      <td>1463</td>\n",
       "      <td>175882.665809</td>\n",
       "    </tr>\n",
       "    <tr>\n",
       "      <td>3</td>\n",
       "      <td>1464</td>\n",
       "      <td>203290.247308</td>\n",
       "    </tr>\n",
       "    <tr>\n",
       "      <td>4</td>\n",
       "      <td>1465</td>\n",
       "      <td>193534.888051</td>\n",
       "    </tr>\n",
       "    <tr>\n",
       "      <td>5</td>\n",
       "      <td>1466</td>\n",
       "      <td>177668.065460</td>\n",
       "    </tr>\n",
       "    <tr>\n",
       "      <td>6</td>\n",
       "      <td>1467</td>\n",
       "      <td>198368.341292</td>\n",
       "    </tr>\n",
       "    <tr>\n",
       "      <td>7</td>\n",
       "      <td>1468</td>\n",
       "      <td>167787.719788</td>\n",
       "    </tr>\n",
       "    <tr>\n",
       "      <td>8</td>\n",
       "      <td>1469</td>\n",
       "      <td>199038.280886</td>\n",
       "    </tr>\n",
       "    <tr>\n",
       "      <td>9</td>\n",
       "      <td>1470</td>\n",
       "      <td>113250.393982</td>\n",
       "    </tr>\n",
       "    <tr>\n",
       "      <td>10</td>\n",
       "      <td>1471</td>\n",
       "      <td>188522.520846</td>\n",
       "    </tr>\n",
       "    <tr>\n",
       "      <td>11</td>\n",
       "      <td>1472</td>\n",
       "      <td>102029.629290</td>\n",
       "    </tr>\n",
       "    <tr>\n",
       "      <td>12</td>\n",
       "      <td>1473</td>\n",
       "      <td>96211.403481</td>\n",
       "    </tr>\n",
       "    <tr>\n",
       "      <td>13</td>\n",
       "      <td>1474</td>\n",
       "      <td>150979.061149</td>\n",
       "    </tr>\n",
       "    <tr>\n",
       "      <td>14</td>\n",
       "      <td>1475</td>\n",
       "      <td>121220.932465</td>\n",
       "    </tr>\n",
       "    <tr>\n",
       "      <td>15</td>\n",
       "      <td>1476</td>\n",
       "      <td>363241.315252</td>\n",
       "    </tr>\n",
       "    <tr>\n",
       "      <td>16</td>\n",
       "      <td>1477</td>\n",
       "      <td>240812.505909</td>\n",
       "    </tr>\n",
       "    <tr>\n",
       "      <td>17</td>\n",
       "      <td>1478</td>\n",
       "      <td>306821.221799</td>\n",
       "    </tr>\n",
       "    <tr>\n",
       "      <td>18</td>\n",
       "      <td>1479</td>\n",
       "      <td>302986.133773</td>\n",
       "    </tr>\n",
       "    <tr>\n",
       "      <td>19</td>\n",
       "      <td>1480</td>\n",
       "      <td>525817.102715</td>\n",
       "    </tr>\n",
       "  </tbody>\n",
       "</table>\n",
       "</div>"
      ],
      "text/plain": [
       "      Id      SalePrice\n",
       "0   1461  116998.133215\n",
       "1   1462  157517.341310\n",
       "2   1463  175882.665809\n",
       "3   1464  203290.247308\n",
       "4   1465  193534.888051\n",
       "5   1466  177668.065460\n",
       "6   1467  198368.341292\n",
       "7   1468  167787.719788\n",
       "8   1469  199038.280886\n",
       "9   1470  113250.393982\n",
       "10  1471  188522.520846\n",
       "11  1472  102029.629290\n",
       "12  1473   96211.403481\n",
       "13  1474  150979.061149\n",
       "14  1475  121220.932465\n",
       "15  1476  363241.315252\n",
       "16  1477  240812.505909\n",
       "17  1478  306821.221799\n",
       "18  1479  302986.133773\n",
       "19  1480  525817.102715"
      ]
     },
     "execution_count": 181,
     "metadata": {},
     "output_type": "execute_result"
    }
   ],
   "source": [
    "predictions.head(20)"
   ]
  },
  {
   "cell_type": "code",
   "execution_count": 182,
   "metadata": {},
   "outputs": [],
   "source": [
    "predictions['Id'] = predictions['Id'].astype(int)"
   ]
  },
  {
   "cell_type": "code",
   "execution_count": 183,
   "metadata": {},
   "outputs": [],
   "source": [
    "predictions.to_csv('predictions.csv', index = False)"
   ]
  },
  {
   "cell_type": "code",
   "execution_count": null,
   "metadata": {},
   "outputs": [],
   "source": []
  }
 ],
 "metadata": {
  "kernelspec": {
   "display_name": "Python 3",
   "language": "python",
   "name": "python3"
  },
  "language_info": {
   "codemirror_mode": {
    "name": "ipython",
    "version": 3
   },
   "file_extension": ".py",
   "mimetype": "text/x-python",
   "name": "python",
   "nbconvert_exporter": "python",
   "pygments_lexer": "ipython3",
   "version": "3.7.4"
  }
 },
 "nbformat": 4,
 "nbformat_minor": 2
}
